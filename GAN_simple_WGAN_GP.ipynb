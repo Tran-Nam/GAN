{
 "cells": [
  {
   "cell_type": "code",
   "execution_count": 1,
   "metadata": {},
   "outputs": [],
   "source": [
    "import numpy as np\n",
    "import matplotlib.pyplot as plt\n",
    "import tensorflow as tf\n",
    "\n",
    "np.random.seed(10)\n",
    "\n",
    "def f(x):\n",
    "    return 1 + x**2\n",
    "\n",
    "def sampling(n_sample=500, scale=10):\n",
    "    data = []\n",
    "    X = scale * (np.random.random_sample(n_sample) - 0.5) # - 0.5 _ 0.5\n",
    "    for i in range(n_sample):\n",
    "        yi = f(X[i])\n",
    "        data.append([X[i], yi])\n",
    "#     data.append([X, y])\n",
    "    return np.array(data)\n",
    "\n",
    "def sample_Z(n_sample, n_dim):\n",
    "    return np.random.uniform(-1., 1., size=[n_sample, n_dim])"
   ]
  },
  {
   "cell_type": "code",
   "execution_count": 2,
   "metadata": {},
   "outputs": [
    {
     "name": "stdout",
     "output_type": "stream",
     "text": [
      "(500, 2)\n"
     ]
    }
   ],
   "source": [
    "data = sampling()\n",
    "print(data.shape)"
   ]
  },
  {
   "cell_type": "code",
   "execution_count": 3,
   "metadata": {},
   "outputs": [
    {
     "data": {
      "image/png": "[encoded data removed]",
      "text/plain": [
       "<Figure size 432x288 with 1 Axes>"
      ]
     },
     "metadata": {},
     "output_type": "display_data"
    }
   ],
   "source": [
    "plt.scatter(data[:, 0], data[:, 1], marker='.')\n",
    "plt.show()"
   ]
  },
  {
   "cell_type": "code",
   "execution_count": 4,
   "metadata": {},
   "outputs": [],
   "source": [
    "hidden_size = 32\n",
    "LD = 10\n",
    "batch_size = 128\n",
    "\n",
    "def GNet(Z, reuse=False):\n",
    "    with tf.variable_scope(\"GNet\", reuse=reuse):\n",
    "        h1 = tf.layers.dense(Z, units=hidden_size, activation=tf.nn.relu)\n",
    "        h2 = tf.layers.dense(h1, units=hidden_size, activation=tf.nn.relu)\n",
    "        out = tf.layers.dense(h2, 2)\n",
    "    return out\n",
    "\n",
    "def DNet(X, reuse=False):\n",
    "    with tf.variable_scope('DNet', reuse=reuse):\n",
    "        h1 = tf.layers.dense(X, units=hidden_size, activation=tf.nn.relu)\n",
    "        h2 = tf.layers.dense(h1, units=hidden_size, activation=tf.nn.relu)\n",
    "        h3 = tf.layers.dense(h2, 2)\n",
    "        out = tf.layers.dense(h3, 1)\n",
    "        return out, h3"
   ]
  },
  {
   "cell_type": "code",
   "execution_count": 5,
   "metadata": {},
   "outputs": [],
   "source": [
    "X = tf.placeholder(tf.float32, [None, 2], name=\"X\")\n",
    "Z = tf.placeholder(tf.float32, [None, 2], name=\"Z\")"
   ]
  },
  {
   "cell_type": "code",
   "execution_count": 6,
   "metadata": {},
   "outputs": [],
   "source": [
    "G_sample = GNet(Z)\n",
    "r_logits, r_visual = DNet(X)\n",
    "f_logits, f_visual = DNet(G_sample, reuse=True)\n",
    "\n",
    "D_var = tf.get_collection(tf.GraphKeys.GLOBAL_VARIABLES, scope='DNet')\n",
    "G_var = tf.get_collection(tf.GraphKeys.GLOBAL_VARIABLES, scope='GNet')\n",
    "\n",
    "D_loss = -(tf.reduce_mean(r_logits) - tf.reduce_mean(f_logits))\n",
    "G_loss = -tf.reduce_mean(f_logits)\n",
    "# clip_D = [p.assign(tf.clip_by_value(p, -0.1, 0.1)) for p in D_var]\n",
    "\n",
    "# penalty\n",
    "fake_data = G_sample\n",
    "real_data = X\n",
    "alpha = tf.random_uniform(shape=[batch_size, 1], minval=0., maxval=1.)\n",
    "interpolates = alpha*real_data + (1-alpha)*fake_data\n",
    "gradients = tf.gradients(DNet(interpolates, reuse=True), [interpolates])[0]\n",
    "slopes = tf.sqrt(tf.reduce_sum(tf.square(gradients), reduction_indices=[1]))\n",
    "gradient_penalty = tf.reduce_mean((slopes-1.)**2)\n",
    "D_loss += LD * gradient_penalty\n",
    "\n",
    "D_step = tf.train.AdamOptimizer(learning_rate=1e-4).minimize(D_loss, var_list=D_var)\n",
    "G_step = tf.train.AdamOptimizer(learning_rate=1e-4).minimize(G_loss, var_list=G_var)\n",
    "\n",
    "init = tf.global_variables_initializer()"
   ]
  },
  {
   "cell_type": "code",
   "execution_count": 7,
   "metadata": {},
   "outputs": [
    {
     "name": "stdout",
     "output_type": "stream",
     "text": [
      "Iteration: 0\t G_loss: 0.0046\t D_loss: 2.5573\n",
      "Iteration: 5000\t G_loss: -40.4652\t D_loss: 8.1699\n",
      "Iteration: 10000\t G_loss: -8.2946\t D_loss: -4.6811\n",
      "Iteration: 15000\t G_loss: -9.0754\t D_loss: -2.8680\n",
      "Iteration: 20000\t G_loss: -18.8535\t D_loss: -1.8689\n",
      "Iteration: 25000\t G_loss: -10.1469\t D_loss: -1.9327\n",
      "Iteration: 30000\t G_loss: -15.4848\t D_loss: -2.9792\n",
      "Iteration: 35000\t G_loss: -18.7909\t D_loss: -1.0368\n",
      "Iteration: 40000\t G_loss: -27.5165\t D_loss: -1.6720\n",
      "Iteration: 45000\t G_loss: -27.6919\t D_loss: -0.2050\n",
      "Iteration: 50000\t G_loss: -31.8738\t D_loss: 0.2246\n",
      "Iteration: 55000\t G_loss: -24.9216\t D_loss: -0.9615\n",
      "Iteration: 60000\t G_loss: -26.6123\t D_loss: -0.5039\n",
      "Iteration: 65000\t G_loss: -34.2923\t D_loss: -0.8501\n",
      "Iteration: 70000\t G_loss: -28.5490\t D_loss: -0.4498\n",
      "Iteration: 75000\t G_loss: -32.6938\t D_loss: -0.8180\n",
      "Iteration: 80000\t G_loss: -31.1410\t D_loss: -0.0652\n",
      "Iteration: 85000\t G_loss: -34.1468\t D_loss: -1.3065\n",
      "Iteration: 90000\t G_loss: -36.1712\t D_loss: -0.6139\n",
      "Iteration: 95000\t G_loss: -41.3872\t D_loss: 0.6571\n"
     ]
    }
   ],
   "source": [
    "\n",
    "loss_G_list = []\n",
    "loss_D_list = []\n",
    "\n",
    "\n",
    "with tf.Session() as sess:\n",
    "    sess.run(init)\n",
    "    writer = tf.summary.FileWriter('./graphs/simple_gan', tf.get_default_graph())\n",
    "    for i in range(100000):\n",
    "        \n",
    "        X_batch = sampling(n_sample=batch_size)\n",
    "        Z_batch = sample_Z(batch_size, 2)\n",
    "        _, loss_D = sess.run([D_step, D_loss], feed_dict={X: X_batch, Z: Z_batch})\n",
    "        \n",
    "        if i%2==0:\n",
    "            Z_batch = sample_Z(batch_size, 2)\n",
    "            _, loss_G = sess.run([G_step, G_loss], feed_dict={Z: Z_batch})\n",
    "        \n",
    "        if i%1000==0:\n",
    "            loss_G_list.append(loss_G)\n",
    "            loss_D_list.append(loss_D)\n",
    "            \n",
    "        \n",
    "        \n",
    "        if i%5000==0:\n",
    "            print(\"Iteration: %d\\t G_loss: %.4f\\t D_loss: %.4f\"%(i, loss_G, loss_D))\n",
    "        \n",
    "    z_ = sample_Z(100, 2)\n",
    "    data_ = sess.run(G_sample, feed_dict={Z: z_})"
   ]
  },
  {
   "cell_type": "code",
   "execution_count": 8,
   "metadata": {},
   "outputs": [
    {
     "data": {
      "image/png": "[encoded data removed]",
      "text/plain": [
       "<Figure size 432x288 with 1 Axes>"
      ]
     },
     "metadata": {},
     "output_type": "display_data"
    }
   ],
   "source": [
    "xplot = range(100)\n",
    "plt.plot(xplot, loss_D_list)\n",
    "plt.plot(xplot, loss_G_list)\n",
    "# plt.ylim([-.1, .1])\n",
    "plt.show()"
   ]
  },
  {
   "cell_type": "code",
   "execution_count": 9,
   "metadata": {},
   "outputs": [
    {
     "data": {
      "image/png": "[encoded data removed]",
      "text/plain": [
       "<Figure size 432x288 with 1 Axes>"
      ]
     },
     "metadata": {},
     "output_type": "display_data"
    }
   ],
   "source": [
    "plt.scatter(data_[:, 0], data_[:, 1])\n",
    "plt.show()"
   ]
  },
  {
   "cell_type": "code",
   "execution_count": null,
   "metadata": {},
   "outputs": [],
   "source": []
  },
  {
   "cell_type": "code",
   "execution_count": null,
   "metadata": {},
   "outputs": [],
   "source": []
  },
  {
   "cell_type": "code",
   "execution_count": null,
   "metadata": {},
   "outputs": [],
   "source": []
  },
  {
   "cell_type": "code",
   "execution_count": null,
   "metadata": {},
   "outputs": [],
   "source": []
  },
  {
   "cell_type": "code",
   "execution_count": null,
   "metadata": {},
   "outputs": [],
   "source": []
  }
 ],
 "metadata": {
  "kernelspec": {
   "display_name": "Python 3",
   "language": "python",
   "name": "python3"
  },
  "language_info": {
   "codemirror_mode": {
    "name": "ipython",
    "version": 3
   },
   "file_extension": ".py",
   "mimetype": "text/x-python",
   "name": "python",
   "nbconvert_exporter": "python",
   "pygments_lexer": "ipython3",
   "version": "3.6.7"
  }
 },
 "nbformat": 4,
 "nbformat_minor": 2
}
