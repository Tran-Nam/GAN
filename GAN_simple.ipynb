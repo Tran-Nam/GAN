{
 "cells": [
  {
   "cell_type": "code",
   "execution_count": 1,
   "metadata": {},
   "outputs": [],
   "source": [
    "import numpy as np\n",
    "import matplotlib.pyplot as plt\n",
    "import tensorflow as tf"
   ]
  },
  {
   "cell_type": "code",
   "execution_count": 2,
   "metadata": {},
   "outputs": [],
   "source": [
    "np.random.seed(10)\n",
    "\n",
    "def f(x):\n",
    "    return 1 + x**2\n",
    "\n",
    "def sampling(n_sample=500, scale=10):\n",
    "    data = []\n",
    "    X = scale * (np.random.random_sample(n_sample) - 0.5) # - 0.5 _ 0.5\n",
    "    for i in range(n_sample):\n",
    "        yi = f(X[i])\n",
    "        data.append([X[i], yi])\n",
    "#     data.append([X, y])\n",
    "    return np.array(data)"
   ]
  },
  {
   "cell_type": "code",
   "execution_count": 3,
   "metadata": {},
   "outputs": [],
   "source": [
    "def sample_Z(n_sample, n_dim):\n",
    "    return np.random.uniform(-1., 1., size=[n_sample, n_dim])"
   ]
  },
  {
   "cell_type": "code",
   "execution_count": 4,
   "metadata": {},
   "outputs": [
    {
     "name": "stdout",
     "output_type": "stream",
     "text": [
      "(500, 2)\n"
     ]
    }
   ],
   "source": [
    "data = sampling()\n",
    "print(data.shape)"
   ]
  },
  {
   "cell_type": "code",
   "execution_count": 5,
   "metadata": {},
   "outputs": [
    {
     "data": {
      "image/png": "[encoded data removed]",
      "text/plain": [
       "<Figure size 432x288 with 1 Axes>"
      ]
     },
     "metadata": {},
     "output_type": "display_data"
    }
   ],
   "source": [
    "plt.scatter(data[:, 0], data[:, 1], marker='.')\n",
    "plt.show()"
   ]
  },
  {
   "cell_type": "code",
   "execution_count": 6,
   "metadata": {},
   "outputs": [],
   "source": [
    "hidden_size = 32\n",
    "\n",
    "def GNet(Z, reuse=False):\n",
    "    with tf.variable_scope(\"GNet\", reuse=reuse):\n",
    "        h1 = tf.layers.dense(Z, units=hidden_size, activation=tf.nn.leaky_relu)\n",
    "        h2 = tf.layers.dense(h1, units=hidden_size, activation=tf.nn.leaky_relu)\n",
    "        out = tf.layers.dense(h2, 2)\n",
    "    return out\n",
    "\n",
    "def DNet(X, reuse=False):\n",
    "    with tf.variable_scope('DNet', reuse=reuse):\n",
    "        h1 = tf.layers.dense(X, units=hidden_size, activation=tf.nn.leaky_relu)\n",
    "        h2 = tf.layers.dense(h1, units=hidden_size, activation=tf.nn.leaky_relu)\n",
    "        h3 = tf.layers.dense(h2, 2)\n",
    "        out = tf.layers.dense(h3, 1)\n",
    "        return out, h3"
   ]
  },
  {
   "cell_type": "code",
   "execution_count": 7,
   "metadata": {},
   "outputs": [],
   "source": [
    "X = tf.placeholder(tf.float32, [None, 2], name=\"X\")\n",
    "Z = tf.placeholder(tf.float32, [None, 2], name=\"Z\")"
   ]
  },
  {
   "cell_type": "code",
   "execution_count": 8,
   "metadata": {},
   "outputs": [],
   "source": [
    "# G_sample = GNet(Z)\n",
    "# r_logits, r_visual = DNet(X)\n",
    "# f_logits, f_visual = DNet(G_sample, reuse=True)"
   ]
  },
  {
   "cell_type": "code",
   "execution_count": 9,
   "metadata": {},
   "outputs": [],
   "source": [
    "G_sample = GNet(Z)\n",
    "r_logits, r_visual = DNet(X)\n",
    "f_logits, f_visual = DNet(G_sample, reuse=True)\n",
    "\n",
    "D_loss = tf.reduce_mean(tf.nn.sigmoid_cross_entropy_with_logits(logits=r_logits, labels=tf.ones_like(r_logits)) \n",
    "                       + tf.nn.sigmoid_cross_entropy_with_logits(logits=f_logits, labels=tf.zeros_like(f_logits)))\n",
    "\n",
    "G_loss = tf.reduce_mean(tf.nn.sigmoid_cross_entropy_with_logits(logits=f_logits, labels=tf.ones_like(f_logits)))"
   ]
  },
  {
   "cell_type": "code",
   "execution_count": 10,
   "metadata": {},
   "outputs": [],
   "source": [
    "D_var = tf.get_collection(tf.GraphKeys.GLOBAL_VARIABLES, scope='DNet')\n",
    "G_var = tf.get_collection(tf.GraphKeys.GLOBAL_VARIABLES, scope='GNet')\n",
    "\n",
    "D_step = tf.train.AdamOptimizer(learning_rate=1e-4).minimize(D_loss, var_list=D_var)\n",
    "G_step = tf.train.AdamOptimizer(learning_rate=1e-4).minimize(G_loss, var_list=G_var)\n",
    "\n",
    "init = tf.global_variables_initializer()"
   ]
  },
  {
   "cell_type": "code",
   "execution_count": 11,
   "metadata": {},
   "outputs": [],
   "source": [
    "# X_batch = np.random.randn(100, 2)\n",
    "# Z_batch = np.random.randn(100, 2)\n",
    "# writer = tf.summary.FileWriter('./graphs/simple_gan', tf.get_default_graph())\n",
    "# with tf.Session() as sess:\n",
    "#     sess.run(init)\n",
    "#     sess.run(D_step, feed_dict={X: X_batch, Z: Z_batch})"
   ]
  },
  {
   "cell_type": "code",
   "execution_count": 12,
   "metadata": {},
   "outputs": [
    {
     "name": "stdout",
     "output_type": "stream",
     "text": [
      "Iteration: 0\t G_loss: 0.7069\t D_loss: 1.3789\n",
      "Iteration: 500\t G_loss: 0.7101\t D_loss: 0.9430\n",
      "Iteration: 1000\t G_loss: 0.8966\t D_loss: 0.8845\n",
      "Iteration: 1500\t G_loss: 0.8898\t D_loss: 1.3343\n",
      "Iteration: 2000\t G_loss: 0.8483\t D_loss: 1.4147\n",
      "Iteration: 2500\t G_loss: 0.8731\t D_loss: 1.3417\n",
      "Iteration: 3000\t G_loss: 0.7938\t D_loss: 1.2942\n",
      "Iteration: 3500\t G_loss: 0.8285\t D_loss: 1.2580\n",
      "Iteration: 4000\t G_loss: 0.8323\t D_loss: 1.1537\n",
      "Iteration: 4500\t G_loss: 0.8316\t D_loss: 1.3026\n",
      "Iteration: 5000\t G_loss: 0.8285\t D_loss: 1.2685\n",
      "Iteration: 5500\t G_loss: 0.8184\t D_loss: 1.2728\n",
      "Iteration: 6000\t G_loss: 0.8844\t D_loss: 1.2617\n",
      "Iteration: 6500\t G_loss: 0.8342\t D_loss: 1.3078\n",
      "Iteration: 7000\t G_loss: 0.9116\t D_loss: 1.2391\n",
      "Iteration: 7500\t G_loss: 0.8056\t D_loss: 1.2792\n",
      "Iteration: 8000\t G_loss: 0.7799\t D_loss: 1.3298\n",
      "Iteration: 8500\t G_loss: 0.7197\t D_loss: 1.3742\n",
      "Iteration: 9000\t G_loss: 0.6818\t D_loss: 1.3075\n",
      "Iteration: 9500\t G_loss: 0.7237\t D_loss: 1.3093\n",
      "Iteration: 10000\t G_loss: 0.9161\t D_loss: 1.3346\n",
      "Iteration: 10500\t G_loss: 0.7302\t D_loss: 1.3671\n",
      "Iteration: 11000\t G_loss: 0.7028\t D_loss: 1.3469\n",
      "Iteration: 11500\t G_loss: 0.7282\t D_loss: 1.3548\n",
      "Iteration: 12000\t G_loss: 0.7587\t D_loss: 1.3436\n",
      "Iteration: 12500\t G_loss: 0.7312\t D_loss: 1.3920\n",
      "Iteration: 13000\t G_loss: 0.7133\t D_loss: 1.3553\n",
      "Iteration: 13500\t G_loss: 0.7212\t D_loss: 1.3895\n",
      "Iteration: 14000\t G_loss: 0.6982\t D_loss: 1.3503\n",
      "Iteration: 14500\t G_loss: 0.6470\t D_loss: 1.3730\n",
      "Iteration: 15000\t G_loss: 0.7598\t D_loss: 1.4051\n",
      "Iteration: 15500\t G_loss: 0.6836\t D_loss: 1.3975\n",
      "Iteration: 16000\t G_loss: 0.7672\t D_loss: 1.3784\n",
      "Iteration: 16500\t G_loss: 0.7081\t D_loss: 1.3673\n",
      "Iteration: 17000\t G_loss: 0.6842\t D_loss: 1.3623\n",
      "Iteration: 17500\t G_loss: 0.7148\t D_loss: 1.3599\n",
      "Iteration: 18000\t G_loss: 0.6581\t D_loss: 1.3855\n",
      "Iteration: 18500\t G_loss: 0.6952\t D_loss: 1.3769\n",
      "Iteration: 19000\t G_loss: 0.7156\t D_loss: 1.3761\n",
      "Iteration: 19500\t G_loss: 0.7017\t D_loss: 1.3864\n"
     ]
    }
   ],
   "source": [
    "batch_size = 32\n",
    "loss_G_list = []\n",
    "loss_D_list = []\n",
    "\n",
    "\n",
    "with tf.Session() as sess:\n",
    "    sess.run(init)\n",
    "    writer = tf.summary.FileWriter('./graphs/simple_gan', tf.get_default_graph())\n",
    "    for i in range(20000):\n",
    "        \n",
    "        X_batch = sampling(n_sample=batch_size)\n",
    "        Z_batch = sample_Z(batch_size, 2)\n",
    "        _, loss_D = sess.run([D_step, D_loss], feed_dict={X: X_batch, Z: Z_batch})\n",
    "        \n",
    "        Z_batch = sample_Z(batch_size, 2)\n",
    "        _, loss_G = sess.run([G_step, G_loss], feed_dict={Z: Z_batch})\n",
    "        \n",
    "        if i%10==0:\n",
    "            loss_G_list.append(loss_G)\n",
    "            loss_D_list.append(loss_D)\n",
    "            \n",
    "        \n",
    "        \n",
    "        if i%500==0:\n",
    "            print(\"Iteration: %d\\t G_loss: %.4f\\t D_loss: %.4f\"%(i, loss_G, loss_D))\n",
    "        \n",
    "    z_ = sample_Z(100, 2)\n",
    "    data_ = sess.run(G_sample, feed_dict={Z: z_})"
   ]
  },
  {
   "cell_type": "code",
   "execution_count": 13,
   "metadata": {},
   "outputs": [
    {
     "data": {
      "image/png": "[encoded data removed]",
      "text/plain": [
       "<Figure size 432x288 with 1 Axes>"
      ]
     },
     "metadata": {},
     "output_type": "display_data"
    }
   ],
   "source": [
    "xplot = range(2000)\n",
    "plt.plot(xplot, loss_D_list)\n",
    "plt.plot(xplot, loss_G_list)\n",
    "plt.show()"
   ]
  },
  {
   "cell_type": "code",
   "execution_count": 14,
   "metadata": {},
   "outputs": [],
   "source": [
    "# z = sample_Z(100, 2)\n",
    "# with tf.Session() as sess:\n",
    "#     sess.run(init)\n",
    "#     data = sess.run(G_sample, feed_dict={Z: z})\n",
    "# print(data.shape)"
   ]
  },
  {
   "cell_type": "code",
   "execution_count": 15,
   "metadata": {},
   "outputs": [
    {
     "data": {
      "image/png": "[encoded data removed]",
      "text/plain": [
       "<Figure size 432x288 with 1 Axes>"
      ]
     },
     "metadata": {},
     "output_type": "display_data"
    }
   ],
   "source": [
    "plt.scatter(data_[:, 0], data_[:, 1])\n",
    "plt.show()"
   ]
  },
  {
   "cell_type": "code",
   "execution_count": null,
   "metadata": {},
   "outputs": [],
   "source": []
  }
 ],
 "metadata": {
  "kernelspec": {
   "display_name": "Python 3",
   "language": "python",
   "name": "python3"
  },
  "language_info": {
   "codemirror_mode": {
    "name": "ipython",
    "version": 3
   },
   "file_extension": ".py",
   "mimetype": "text/x-python",
   "name": "python",
   "nbconvert_exporter": "python",
   "pygments_lexer": "ipython3",
   "version": "3.6.7"
  }
 },
 "nbformat": 4,
 "nbformat_minor": 2
}
