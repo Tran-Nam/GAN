{
 "cells": [
  {
   "cell_type": "code",
   "execution_count": 27,
   "metadata": {},
   "outputs": [
    {
     "name": "stdout",
     "output_type": "stream",
     "text": [
      "Extracting /tmp/data/train-images-idx3-ubyte.gz\n",
      "Extracting /tmp/data/train-labels-idx1-ubyte.gz\n",
      "Extracting /tmp/data/t10k-images-idx3-ubyte.gz\n",
      "Extracting /tmp/data/t10k-labels-idx1-ubyte.gz\n"
     ]
    }
   ],
   "source": [
    "from __future__ import division, print_function, absolute_import\n",
    "\n",
    "import matplotlib.pyplot as plt\n",
    "import numpy as np\n",
    "import tensorflow as tf\n",
    "\n",
    "# Import MNIST data\n",
    "from tensorflow.examples.tutorials.mnist import input_data\n",
    "mnist = input_data.read_data_sets(\"/tmp/data/\", one_hot=True)"
   ]
  },
  {
   "cell_type": "code",
   "execution_count": 28,
   "metadata": {},
   "outputs": [
    {
     "name": "stdout",
     "output_type": "stream",
     "text": [
      "55000 5000 10000\n"
     ]
    }
   ],
   "source": [
    "a = mnist.train.num_examples\n",
    "b = mnist.validation.num_examples\n",
    "c = mnist.test.num_examples\n",
    "print(a, b, c)\n",
    "batch_size = 128"
   ]
  },
  {
   "cell_type": "code",
   "execution_count": 29,
   "metadata": {},
   "outputs": [
    {
     "name": "stdout",
     "output_type": "stream",
     "text": [
      "(128, 784)\n",
      "55040\n"
     ]
    }
   ],
   "source": [
    "num_step = int(a/batch_size)\n",
    "e = 0\n",
    "for i in range(num_step+1):\n",
    "    d = mnist.train.next_batch(batch_size)\n",
    "    e += d[0].shape[0]\n",
    "print(d[0].shape)\n",
    "print(e)"
   ]
  },
  {
   "cell_type": "code",
   "execution_count": 30,
   "metadata": {},
   "outputs": [],
   "source": [
    "# Training Params\n",
    "num_steps = 1000000\n",
    "batch_size = 128\n",
    "learning_rate = 0.0002\n",
    "\n",
    "# Network Params\n",
    "image_dim = 784 # 28*28 pixels\n",
    "gen_hidden_dim = 256\n",
    "disc_hidden_dim = 256\n",
    "noise_dim = 100 # Noise data points\n",
    "\n",
    "# A custom initialization (see Xavier Glorot init)\n",
    "def glorot_init(shape):\n",
    "    return tf.random_normal(shape=shape, stddev=1. / tf.sqrt(shape[0] / 2.))\n",
    "\n",
    "def sample_z(n_sample, n_dim):\n",
    "    return np.random.uniform(-1., 1., size=[n_sample, n_dim])"
   ]
  },
  {
   "cell_type": "code",
   "execution_count": 31,
   "metadata": {},
   "outputs": [],
   "source": [
    "\n",
    "# Store layers weight & bias\n",
    "weights = {\n",
    "    'gen_hidden1': tf.Variable(glorot_init([noise_dim, gen_hidden_dim])),\n",
    "    'gen_out': tf.Variable(glorot_init([gen_hidden_dim, image_dim])),\n",
    "    'disc_hidden1': tf.Variable(glorot_init([image_dim, disc_hidden_dim])),\n",
    "    'disc_out': tf.Variable(glorot_init([disc_hidden_dim, 1])),\n",
    "}\n",
    "biases = {\n",
    "    'gen_hidden1': tf.Variable(tf.zeros([gen_hidden_dim])),\n",
    "    'gen_out': tf.Variable(tf.zeros([image_dim])),\n",
    "    'disc_hidden1': tf.Variable(tf.zeros([disc_hidden_dim])),\n",
    "    'disc_out': tf.Variable(tf.zeros([1])),\n",
    "}"
   ]
  },
  {
   "cell_type": "code",
   "execution_count": 32,
   "metadata": {},
   "outputs": [],
   "source": [
    "# Generator\n",
    "def generator(x):\n",
    "    hidden_layer = tf.matmul(x, weights['gen_hidden1'])\n",
    "    hidden_layer = tf.add(hidden_layer, biases['gen_hidden1'])\n",
    "    hidden_layer = tf.nn.relu(hidden_layer)\n",
    "    out_layer = tf.matmul(hidden_layer, weights['gen_out'])\n",
    "    out_layer = tf.add(out_layer, biases['gen_out'])\n",
    "    out_layer = tf.nn.sigmoid(out_layer)\n",
    "    return out_layer\n",
    "\n",
    "\n",
    "# Discriminator\n",
    "def discriminator(x):\n",
    "    hidden_layer = tf.matmul(x, weights['disc_hidden1'])\n",
    "    hidden_layer = tf.add(hidden_layer, biases['disc_hidden1'])\n",
    "    hidden_layer = tf.nn.relu(hidden_layer)\n",
    "    out_layer = tf.matmul(hidden_layer, weights['disc_out'])\n",
    "    out_layer = tf.add(out_layer, biases['disc_out'])\n",
    "    out_layer = tf.nn.sigmoid(out_layer)\n",
    "    return out_layer\n",
    "\n",
    "# Build Networks\n",
    "# Network Inputs\n",
    "gen_input = tf.placeholder(tf.float32, shape=[None, noise_dim], name='input_noise')\n",
    "disc_input = tf.placeholder(tf.float32, shape=[None, image_dim], name='disc_input')\n",
    "\n",
    "# Build Generator Network\n",
    "gen_sample = generator(gen_input)\n",
    "\n",
    "# Build 2 Discriminator Networks (one from noise input, one from generated samples)\n",
    "disc_real = discriminator(disc_input)\n",
    "disc_fake = discriminator(gen_sample)\n",
    "\n",
    "# Build Loss\n",
    "gen_loss = -tf.reduce_mean(disc_fake)\n",
    "disc_loss = tf.reduce_mean(disc_real) - tf.reduce_mean(disc_fake)\n",
    "# Build Optimizers\n",
    "optimizer_gen = tf.train.RMSPropOptimizer(learning_rate=learning_rate)\n",
    "optimizer_disc = tf.train.RMSPropOptimizer(learning_rate=learning_rate)\n",
    "\n",
    "# Training Variables for each optimizer\n",
    "# By default in TensorFlow, all variables are updated by each optimizer, so we\n",
    "# need to precise for each one of them the specific variables to update.\n",
    "# Generator Network Variables\n",
    "gen_vars = [weights['gen_hidden1'], weights['gen_out'],\n",
    "            biases['gen_hidden1'], biases['gen_out']]\n",
    "# Discriminator Network Variables\n",
    "disc_vars = [weights['disc_hidden1'], weights['disc_out'],\n",
    "            biases['disc_hidden1'], biases['disc_out']]\n",
    "clip_D = [p.assign(tf.clip_by_value(p, -.05, .05)) for p in disc_vars]\n",
    "# Create training operations\n",
    "train_gen = optimizer_gen.minimize(gen_loss, var_list=gen_vars)\n",
    "train_disc = optimizer_disc.minimize(-disc_loss, var_list=disc_vars)\n",
    "\n",
    "# Initialize the variables (i.e. assign their default value)\n",
    "init = tf.global_variables_initializer()"
   ]
  },
  {
   "cell_type": "code",
   "execution_count": 33,
   "metadata": {},
   "outputs": [
    {
     "name": "stdout",
     "output_type": "stream",
     "text": [
      "Step 1: Generator Loss: -0.636009, Discriminator Loss: -0.092920\n",
      "Step 20000: Generator Loss: -0.489283, Discriminator Loss: 0.066330\n",
      "Step 40000: Generator Loss: -0.477642, Discriminator Loss: 0.055867\n",
      "Step 60000: Generator Loss: -0.468909, Discriminator Loss: 0.065211\n",
      "Step 80000: Generator Loss: -0.473995, Discriminator Loss: 0.037231\n",
      "Step 100000: Generator Loss: -0.370943, Discriminator Loss: 0.044899\n",
      "Step 120000: Generator Loss: -0.511830, Discriminator Loss: 0.026890\n",
      "Step 140000: Generator Loss: -0.483991, Discriminator Loss: 0.034015\n",
      "Step 160000: Generator Loss: -0.470977, Discriminator Loss: 0.031982\n",
      "Step 180000: Generator Loss: -0.461416, Discriminator Loss: 0.023584\n",
      "Step 200000: Generator Loss: -0.487980, Discriminator Loss: 0.028253\n",
      "Step 220000: Generator Loss: -0.469242, Discriminator Loss: 0.028774\n",
      "Step 240000: Generator Loss: -0.474113, Discriminator Loss: 0.036211\n",
      "Step 260000: Generator Loss: -0.466549, Discriminator Loss: 0.020936\n",
      "Step 280000: Generator Loss: -0.469792, Discriminator Loss: 0.025858\n",
      "Step 300000: Generator Loss: -0.464274, Discriminator Loss: 0.026787\n",
      "Step 320000: Generator Loss: -0.506173, Discriminator Loss: 0.018281\n",
      "Step 340000: Generator Loss: -0.447016, Discriminator Loss: 0.018027\n",
      "Step 360000: Generator Loss: -0.529514, Discriminator Loss: 0.043849\n",
      "Step 380000: Generator Loss: -0.463022, Discriminator Loss: 0.028694\n",
      "Step 400000: Generator Loss: -0.508753, Discriminator Loss: 0.009009\n",
      "Step 420000: Generator Loss: -0.505696, Discriminator Loss: 0.036716\n",
      "Step 440000: Generator Loss: -0.512214, Discriminator Loss: 0.026466\n",
      "Step 460000: Generator Loss: -0.474576, Discriminator Loss: 0.015900\n",
      "Step 480000: Generator Loss: -0.480351, Discriminator Loss: 0.023654\n",
      "Step 500000: Generator Loss: -0.472754, Discriminator Loss: 0.024258\n",
      "Step 520000: Generator Loss: -0.502478, Discriminator Loss: 0.023514\n",
      "Step 540000: Generator Loss: -0.469314, Discriminator Loss: 0.025339\n",
      "Step 560000: Generator Loss: -0.445180, Discriminator Loss: 0.020108\n",
      "Step 580000: Generator Loss: -0.463795, Discriminator Loss: 0.030162\n",
      "Step 600000: Generator Loss: -0.465757, Discriminator Loss: 0.026460\n",
      "Step 620000: Generator Loss: -0.456518, Discriminator Loss: 0.031192\n",
      "Step 640000: Generator Loss: -0.483721, Discriminator Loss: 0.020741\n",
      "Step 660000: Generator Loss: -0.462082, Discriminator Loss: 0.031496\n",
      "Step 680000: Generator Loss: -0.447466, Discriminator Loss: 0.022671\n",
      "Step 700000: Generator Loss: -0.469000, Discriminator Loss: 0.028328\n",
      "Step 720000: Generator Loss: -0.482733, Discriminator Loss: 0.020268\n",
      "Step 740000: Generator Loss: -0.512446, Discriminator Loss: 0.024678\n",
      "Step 760000: Generator Loss: -0.472590, Discriminator Loss: 0.029375\n",
      "Step 780000: Generator Loss: -0.436930, Discriminator Loss: 0.017980\n",
      "Step 800000: Generator Loss: -0.477135, Discriminator Loss: 0.025017\n",
      "Step 820000: Generator Loss: -0.508530, Discriminator Loss: 0.031914\n",
      "Step 840000: Generator Loss: -0.464624, Discriminator Loss: 0.022946\n",
      "Step 860000: Generator Loss: -0.508445, Discriminator Loss: 0.035145\n",
      "Step 880000: Generator Loss: -0.471102, Discriminator Loss: 0.027030\n",
      "Step 900000: Generator Loss: -0.439273, Discriminator Loss: 0.029312\n",
      "Step 920000: Generator Loss: -0.451171, Discriminator Loss: 0.021647\n",
      "Step 940000: Generator Loss: -0.473642, Discriminator Loss: 0.024596\n",
      "Step 960000: Generator Loss: -0.518557, Discriminator Loss: 0.026202\n",
      "Step 980000: Generator Loss: -0.475329, Discriminator Loss: 0.018400\n",
      "Step 1000000: Generator Loss: -0.464170, Discriminator Loss: 0.023589\n"
     ]
    }
   ],
   "source": [
    "# Start Training\n",
    "# Start a new TF session\n",
    "# writer = tf.summary.FileWriter('./graphs/GAN_TF_Tutorial', tf.get_default_graph())\n",
    "loss_D = []\n",
    "loss_G = []\n",
    "sess = tf.Session()\n",
    "\n",
    "# Run the initializer\n",
    "sess.run(init)\n",
    "writer = tf.summary.FileWriter('./graphs/GAN_TF_Tutorial', tf.get_default_graph())\n",
    "# Training\n",
    "for i in range(1, num_steps+1):\n",
    "    # Prepare Data\n",
    "    # Get the next batch of MNIST data (only images are needed, not labels)\n",
    "    batch_x, _ = mnist.train.next_batch(batch_size)\n",
    "    # Generate noise to feed to the generator\n",
    "    z = np.random.uniform(-1., 1., size=[batch_size, noise_dim])\n",
    "\n",
    "    # Train\n",
    "    feed_dict = {disc_input: batch_x, gen_input: z}\n",
    "    _, _, gl, dl, _ = sess.run([train_gen, train_disc, gen_loss, disc_loss, clip_D],\n",
    "                            feed_dict=feed_dict)\n",
    "    if i % 20000 == 0 or i == 1:\n",
    "        print('Step %i: Generator Loss: %f, Discriminator Loss: %f' % (i, gl, dl))\n",
    "    if i%10==0:\n",
    "        loss_D.append(dl)\n",
    "        loss_G.append(gl)"
   ]
  },
  {
   "cell_type": "code",
   "execution_count": 44,
   "metadata": {},
   "outputs": [
    {
     "data": {
      "image/png": "[encoded data removed]",
      "text/plain": [
       "<Figure size 432x288 with 1 Axes>"
      ]
     },
     "metadata": {},
     "output_type": "display_data"
    }
   ],
   "source": [
    "xplot = np.arange(num_steps/10)\n",
    "plt.plot(xplot, loss_D)\n",
    "plt.plot(xplot, loss_G)\n",
    "# plt.ylim([-0.5, -0.4])\n",
    "# plt.xlim([20000, 20100])\n",
    "plt.show()"
   ]
  },
  {
   "cell_type": "code",
   "execution_count": 35,
   "metadata": {},
   "outputs": [
    {
     "data": {
      "image/png": "[encoded data removed]",
      "text/plain": [
       "<Figure size 432x432 with 1 Axes>"
      ]
     },
     "metadata": {},
     "output_type": "display_data"
    }
   ],
   "source": [
    "\n",
    "# Testing\n",
    "# Generate images from noise, using the generator network.\n",
    "n = 6\n",
    "canvas = np.empty((28 * n, 28 * n))\n",
    "for i in range(n):\n",
    "    # Noise input.\n",
    "    z = np.random.uniform(-1., 1., size=[n, noise_dim])\n",
    "    # Generate image from noise.\n",
    "    g = sess.run(gen_sample, feed_dict={gen_input: z})\n",
    "    # Reverse colours for better display\n",
    "    g = -1 * (g - 1)\n",
    "    for j in range(n):\n",
    "        # Draw the generated digits\n",
    "        canvas[i * 28:(i + 1) * 28, j * 28:(j + 1) * 28] = g[j].reshape([28, 28])\n",
    "\n",
    "plt.figure(figsize=(n, n))\n",
    "plt.imshow(canvas, origin=\"upper\", cmap=\"gray\")\n",
    "plt.show()"
   ]
  },
  {
   "cell_type": "code",
   "execution_count": null,
   "metadata": {},
   "outputs": [],
   "source": []
  },
  {
   "cell_type": "code",
   "execution_count": null,
   "metadata": {},
   "outputs": [],
   "source": []
  }
 ],
 "metadata": {
  "kernelspec": {
   "display_name": "Python 3",
   "language": "python",
   "name": "python3"
  },
  "language_info": {
   "codemirror_mode": {
    "name": "ipython",
    "version": 3
   },
   "file_extension": ".py",
   "mimetype": "text/x-python",
   "name": "python",
   "nbconvert_exporter": "python",
   "pygments_lexer": "ipython3",
   "version": "3.6.7"
  }
 },
 "nbformat": 4,
 "nbformat_minor": 2
}
