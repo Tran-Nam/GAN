{
 "cells": [
  {
   "cell_type": "code",
   "execution_count": 1,
   "metadata": {},
   "outputs": [
    {
     "name": "stdout",
     "output_type": "stream",
     "text": [
      "WARNING:tensorflow:From <ipython-input-1-3b3390263800>:5: read_data_sets (from tensorflow.contrib.learn.python.learn.datasets.mnist) is deprecated and will be removed in a future version.\n",
      "Instructions for updating:\n",
      "Please use alternatives such as official/mnist/dataset.py from tensorflow/models.\n",
      "WARNING:tensorflow:From /home/phuongnam/.local/lib/python3.6/site-packages/tensorflow/contrib/learn/python/learn/datasets/mnist.py:260: maybe_download (from tensorflow.contrib.learn.python.learn.datasets.base) is deprecated and will be removed in a future version.\n",
      "Instructions for updating:\n",
      "Please write your own downloading logic.\n",
      "WARNING:tensorflow:From /home/phuongnam/.local/lib/python3.6/site-packages/tensorflow/contrib/learn/python/learn/datasets/mnist.py:262: extract_images (from tensorflow.contrib.learn.python.learn.datasets.mnist) is deprecated and will be removed in a future version.\n",
      "Instructions for updating:\n",
      "Please use tf.data to implement this functionality.\n",
      "Extracting MNIST_data/train-images-idx3-ubyte.gz\n",
      "WARNING:tensorflow:From /home/phuongnam/.local/lib/python3.6/site-packages/tensorflow/contrib/learn/python/learn/datasets/mnist.py:267: extract_labels (from tensorflow.contrib.learn.python.learn.datasets.mnist) is deprecated and will be removed in a future version.\n",
      "Instructions for updating:\n",
      "Please use tf.data to implement this functionality.\n",
      "Extracting MNIST_data/train-labels-idx1-ubyte.gz\n",
      "WARNING:tensorflow:From /home/phuongnam/.local/lib/python3.6/site-packages/tensorflow/contrib/learn/python/learn/datasets/mnist.py:110: dense_to_one_hot (from tensorflow.contrib.learn.python.learn.datasets.mnist) is deprecated and will be removed in a future version.\n",
      "Instructions for updating:\n",
      "Please use tf.one_hot on tensors.\n",
      "Extracting MNIST_data/t10k-images-idx3-ubyte.gz\n",
      "Extracting MNIST_data/t10k-labels-idx1-ubyte.gz\n",
      "WARNING:tensorflow:From /home/phuongnam/.local/lib/python3.6/site-packages/tensorflow/contrib/learn/python/learn/datasets/mnist.py:290: DataSet.__init__ (from tensorflow.contrib.learn.python.learn.datasets.mnist) is deprecated and will be removed in a future version.\n",
      "Instructions for updating:\n",
      "Please use alternatives such as official/mnist/dataset.py from tensorflow/models.\n"
     ]
    }
   ],
   "source": [
    "import tensorflow as tf\n",
    "import numpy as np\n",
    "import matplotlib.pyplot as plt\n",
    "from tensorflow.examples.tutorials.mnist import input_data\n",
    "mnist = input_data.read_data_sets(\"MNIST_data/\", one_hot=True)"
   ]
  },
  {
   "cell_type": "code",
   "execution_count": 2,
   "metadata": {},
   "outputs": [],
   "source": [
    "batch_size = 512\n",
    "learning_rate = 1e-3\n",
    "epoch = 10000"
   ]
  },
  {
   "cell_type": "code",
   "execution_count": 3,
   "metadata": {},
   "outputs": [],
   "source": [
    "\n",
    "x = tf.placeholder(tf.float32, shape=[None, 784])\n",
    "x_image = tf.reshape(x, [-1, 28, 28, 1])\n",
    "z_in = tf.placeholder(tf.float32, shape=[batch_size, 100])\n",
    "initializer = tf.truncated_normal_initializer(stddev=0.02)"
   ]
  },
  {
   "cell_type": "code",
   "execution_count": 4,
   "metadata": {},
   "outputs": [],
   "source": [
    "def lrelu(x, leak=0.2, name=\"lrelu\"):\n",
    "    with tf.variable_scope(name):\n",
    "        f1 = 0.5 * (1 + leak)\n",
    "        f2 = 0.5 * (1 - leak)\n",
    "        return f1 * x + f2 * abs(x)"
   ]
  },
  {
   "cell_type": "code",
   "execution_count": 5,
   "metadata": {},
   "outputs": [],
   "source": [
    "\n",
    "def generator(z):\n",
    "    \n",
    "    with tf.variable_scope(\"generator\"):\n",
    "       \n",
    "        fc1 = tf.contrib.layers.fully_connected(inputs=z, num_outputs=7*7*128, \n",
    "                                                activation_fn=tf.nn.relu, \n",
    "                                                normalizer_fn=tf.contrib.layers.batch_norm,\n",
    "                                                weights_initializer=initializer,\n",
    "                                                scope=\"g_fc1\")\n",
    "        fc1 = tf.reshape(fc1, shape=[batch_size, 7, 7, 128])\n",
    "        \n",
    "        conv1 = tf.contrib.layers.conv2d(fc1, num_outputs=4*64, kernel_size=5, \n",
    "                                         stride=1, padding=\"SAME\",activation_fn=tf.nn.relu,\n",
    "                                         normalizer_fn=tf.contrib.layers.batch_norm, \n",
    "                                         weights_initializer=initializer,scope=\"g_conv1\")\n",
    "        conv1 = tf.reshape(conv1, shape=[batch_size,14,14,64])\n",
    "        \n",
    "        conv2 = tf.contrib.layers.conv2d(conv1, num_outputs=4*32, kernel_size=5,\n",
    "                                         stride=1, padding=\"SAME\", activation_fn=tf.nn.relu,\n",
    "                                         normalizer_fn=tf.contrib.layers.batch_norm, \n",
    "                                         weights_initializer=initializer,\n",
    "                                         scope=\"g_conv2\")\n",
    "        conv2 = tf.reshape(conv2, shape=[batch_size,28,28,32])\n",
    "        \n",
    "        conv3 = tf.contrib.layers.conv2d(conv2, num_outputs=1, kernel_size=5, \n",
    "                                         stride=1, padding=\"SAME\", \n",
    "                                         activation_fn=tf.nn.tanh,\n",
    "                                         scope=\"g_conv3\")\n",
    "\n",
    "        return conv3"
   ]
  },
  {
   "cell_type": "code",
   "execution_count": 6,
   "metadata": {},
   "outputs": [],
   "source": [
    "\n",
    "def discriminator(tensor,reuse=False):\n",
    "    \n",
    "    with tf.variable_scope(\"discriminator\"):\n",
    "\n",
    "        conv1 = tf.contrib.layers.conv2d(inputs=tensor, num_outputs=32,\n",
    "                                         kernel_size=5, stride=2, padding=\"SAME\", \n",
    "                                        reuse=reuse, activation_fn=lrelu,\n",
    "                                         weights_initializer=initializer,\n",
    "                                         scope=\"d_conv1\")\n",
    "        conv2 = tf.contrib.layers.conv2d(inputs=conv1, num_outputs=64, \n",
    "                                         kernel_size=5, stride=2, padding=\"SAME\", \n",
    "                                         reuse=reuse, activation_fn=lrelu,\n",
    "                                         normalizer_fn=tf.contrib.layers.batch_norm,\n",
    "                                         weights_initializer=initializer,\n",
    "                                         scope=\"d_conv2\")\n",
    "        fc1 = tf.reshape(conv2, shape=[batch_size, 7*7*64])\n",
    "        fc1 = tf.contrib.layers.fully_connected(inputs=fc1, num_outputs=512,reuse=reuse,\n",
    "                                                activation_fn=lrelu, \n",
    "                                                normalizer_fn=tf.contrib.layers.batch_norm, \n",
    "                                                weights_initializer=initializer,\n",
    "                                                scope=\"d_fc1\")\n",
    "        fc2 = tf.contrib.layers.fully_connected(inputs=fc1, num_outputs=1, reuse=reuse,\n",
    "                                                activation_fn=tf.nn.sigmoid,\n",
    "                                                weights_initializer=initializer,\n",
    "                                                scope=\"d_fc2\")\n",
    "\n",
    "        return fc2"
   ]
  },
  {
   "cell_type": "code",
   "execution_count": 7,
   "metadata": {},
   "outputs": [],
   "source": [
    "\n",
    "g_out = generator(z_in)\n",
    "d_out_fake = discriminator(g_out)\n",
    "d_out_real = discriminator(x_image,reuse=True)"
   ]
  },
  {
   "cell_type": "code",
   "execution_count": 8,
   "metadata": {},
   "outputs": [],
   "source": [
    "\n",
    "disc_loss = tf.reduce_sum(tf.square(d_out_real-1) + tf.square(d_out_fake))/2\n",
    "gen_loss = tf.reduce_sum(tf.square(d_out_fake-1))/2"
   ]
  },
  {
   "cell_type": "code",
   "execution_count": 9,
   "metadata": {},
   "outputs": [],
   "source": [
    "gen_variables = tf.get_collection(tf.GraphKeys.TRAINABLE_VARIABLES, scope=\"generator\") \n",
    "dis_variables = tf.get_collection(tf.GraphKeys.TRAINABLE_VARIABLES, scope=\"discriminator\")"
   ]
  },
  {
   "cell_type": "code",
   "execution_count": 10,
   "metadata": {},
   "outputs": [],
   "source": [
    "\n",
    "d_optimizer = tf.train.RMSPropOptimizer(learning_rate=learning_rate)\n",
    "g_optimizer = tf.train.RMSPropOptimizer(learning_rate=learning_rate)\n",
    "\n",
    "d_grads = d_optimizer.compute_gradients(disc_loss,dis_variables) \n",
    "g_grads = g_optimizer.compute_gradients(gen_loss,gen_variables) \n",
    "\n",
    "update_D = d_optimizer.apply_gradients(d_grads)\n",
    "update_G = g_optimizer.apply_gradients(g_grads)"
   ]
  },
  {
   "cell_type": "code",
   "execution_count": 11,
   "metadata": {},
   "outputs": [
    {
     "name": "stdout",
     "output_type": "stream",
     "text": [
      "i: 0 / d_loss: 0.2531396746635437 / g_loss: 0.11469514667987823\n",
      "i: 100 / d_loss: 0.21252137422561646 / g_loss: 0.14971141517162323\n",
      "i: 200 / d_loss: 0.10476487874984741 / g_loss: 0.1850975751876831\n",
      "i: 300 / d_loss: 0.09072503447532654 / g_loss: 0.30560073256492615\n",
      "i: 400 / d_loss: 0.022847654297947884 / g_loss: 0.33966508507728577\n",
      "i: 500 / d_loss: 0.0804363340139389 / g_loss: 0.27204078435897827\n",
      "i: 600 / d_loss: 0.04552073776721954 / g_loss: 0.33123570680618286\n",
      "i: 700 / d_loss: 0.005089149810373783 / g_loss: 0.4157331883907318\n",
      "i: 800 / d_loss: 0.00391759816557169 / g_loss: 0.4468916654586792\n",
      "i: 900 / d_loss: 0.0025817896239459515 / g_loss: 0.44822782278060913\n",
      "i: 1000 / d_loss: 0.01757688820362091 / g_loss: 0.4707685112953186\n",
      "i: 1100 / d_loss: 0.011337410658597946 / g_loss: 0.4668439030647278\n",
      "i: 1200 / d_loss: 0.0009754904895089567 / g_loss: 0.4815962314605713\n",
      "i: 1300 / d_loss: 0.0007122312672436237 / g_loss: 0.468177855014801\n",
      "i: 1400 / d_loss: 0.0005963877774775028 / g_loss: 0.4847520589828491\n",
      "i: 1500 / d_loss: 0.001706309150904417 / g_loss: 0.47575250267982483\n",
      "i: 1600 / d_loss: 0.0005176302511245012 / g_loss: 0.47981786727905273\n",
      "i: 1700 / d_loss: 0.0010365522466599941 / g_loss: 0.4834150969982147\n",
      "i: 1800 / d_loss: 0.0009718616493046284 / g_loss: 0.48552507162094116\n",
      "i: 1900 / d_loss: 0.0006255100597627461 / g_loss: 0.49251312017440796\n",
      "i: 2000 / d_loss: 0.0005024863639846444 / g_loss: 0.4799113869667053\n",
      "i: 2100 / d_loss: 0.0036664744839072227 / g_loss: 0.4340391755104065\n",
      "i: 2200 / d_loss: 0.006042717024683952 / g_loss: 0.47324830293655396\n",
      "i: 2300 / d_loss: 0.0006326782749965787 / g_loss: 0.47696566581726074\n",
      "i: 2400 / d_loss: 0.006394507363438606 / g_loss: 0.48423606157302856\n",
      "i: 2500 / d_loss: 0.00034115329617634416 / g_loss: 0.4896271228790283\n",
      "i: 2600 / d_loss: 0.00020797790784854442 / g_loss: 0.4881157875061035\n",
      "i: 2700 / d_loss: 0.0001894883462227881 / g_loss: 0.48783278465270996\n",
      "i: 2800 / d_loss: 0.00020758801838383079 / g_loss: 0.4824381172657013\n",
      "i: 2900 / d_loss: 0.00023233973479364067 / g_loss: 0.49334174394607544\n",
      "i: 3000 / d_loss: 0.0001461963402107358 / g_loss: 0.49635016918182373\n",
      "i: 3100 / d_loss: 0.00023917685030028224 / g_loss: 0.4943618178367615\n",
      "i: 3200 / d_loss: 0.0005979418056085706 / g_loss: 0.49620309472084045\n",
      "i: 3300 / d_loss: 0.00023321647313423455 / g_loss: 0.49735426902770996\n",
      "i: 3400 / d_loss: 0.00012072773824911565 / g_loss: 0.4939155578613281\n",
      "i: 3500 / d_loss: 8.31336437840946e-05 / g_loss: 0.4918825328350067\n",
      "i: 3600 / d_loss: 0.00015313127369154245 / g_loss: 0.49758872389793396\n",
      "i: 3700 / d_loss: 0.0004189004248473793 / g_loss: 0.4906604588031769\n",
      "i: 3800 / d_loss: 0.0011524257715791464 / g_loss: 0.4758875072002411\n",
      "i: 3900 / d_loss: 0.00024372803454753011 / g_loss: 0.4509589672088623\n",
      "i: 4000 / d_loss: 0.001609819126315415 / g_loss: 0.4923633933067322\n",
      "i: 4100 / d_loss: 0.00010038423351943493 / g_loss: 0.4983507990837097\n",
      "i: 4200 / d_loss: 0.015300817787647247 / g_loss: 0.4931957721710205\n",
      "i: 4300 / d_loss: 2.7857902750838548e-05 / g_loss: 0.4932219982147217\n",
      "i: 4400 / d_loss: 0.00046076870057731867 / g_loss: 0.49426817893981934\n",
      "i: 4500 / d_loss: 0.00013399097952060401 / g_loss: 0.4992799460887909\n",
      "i: 4600 / d_loss: 0.0005120261921547353 / g_loss: 0.4923871159553528\n",
      "i: 4700 / d_loss: 0.018377281725406647 / g_loss: 0.4728556275367737\n",
      "i: 4800 / d_loss: 6.373818905558437e-05 / g_loss: 0.49869948625564575\n",
      "i: 4900 / d_loss: 8.347998664248735e-05 / g_loss: 0.4918074607849121\n",
      "i: 5000 / d_loss: 0.05977615714073181 / g_loss: 0.45005589723587036\n",
      "i: 5100 / d_loss: 0.0027511650696396828 / g_loss: 0.4929101765155792\n",
      "i: 5200 / d_loss: 3.712890611495823e-05 / g_loss: 0.4921015501022339\n",
      "i: 5300 / d_loss: 0.0001910295250127092 / g_loss: 0.4972550570964813\n",
      "i: 5400 / d_loss: 2.8034708520863205e-05 / g_loss: 0.49454933404922485\n",
      "i: 5500 / d_loss: 0.00025048048701137304 / g_loss: 0.4995845556259155\n",
      "i: 5600 / d_loss: 0.0035827686078846455 / g_loss: 0.49903130531311035\n",
      "i: 5700 / d_loss: 6.56456541037187e-05 / g_loss: 0.4975394606590271\n",
      "i: 5800 / d_loss: 0.0002286811068188399 / g_loss: 0.49599000811576843\n",
      "i: 5900 / d_loss: 2.1522093447856605e-05 / g_loss: 0.4964216649532318\n",
      "i: 6000 / d_loss: 3.881012526107952e-05 / g_loss: 0.4990539848804474\n",
      "i: 6100 / d_loss: 0.00024810174363665283 / g_loss: 0.49594539403915405\n"
     ]
    },
    {
     "ename": "KeyboardInterrupt",
     "evalue": "",
     "output_type": "error",
     "traceback": [
      "\u001b[0;31m---------------------------------------------------------------------------\u001b[0m",
      "\u001b[0;31mKeyboardInterrupt\u001b[0m                         Traceback (most recent call last)",
      "\u001b[0;32m<ipython-input-11-715840e93d09>\u001b[0m in \u001b[0;36m<module>\u001b[0;34m()\u001b[0m\n\u001b[1;32m     13\u001b[0m \u001b[0;34m\u001b[0m\u001b[0m\n\u001b[1;32m     14\u001b[0m         \u001b[0;32mfor\u001b[0m \u001b[0mj\u001b[0m \u001b[0;32min\u001b[0m \u001b[0mrange\u001b[0m\u001b[0;34m(\u001b[0m\u001b[0;36m4\u001b[0m\u001b[0;34m)\u001b[0m\u001b[0;34m:\u001b[0m\u001b[0;34m\u001b[0m\u001b[0m\n\u001b[0;32m---> 15\u001b[0;31m             \u001b[0m_\u001b[0m\u001b[0;34m,\u001b[0m \u001b[0mg_loss\u001b[0m \u001b[0;34m=\u001b[0m \u001b[0msess\u001b[0m\u001b[0;34m.\u001b[0m\u001b[0mrun\u001b[0m\u001b[0;34m(\u001b[0m\u001b[0;34m[\u001b[0m\u001b[0mupdate_G\u001b[0m\u001b[0;34m,\u001b[0m\u001b[0mgen_loss\u001b[0m\u001b[0;34m]\u001b[0m\u001b[0;34m,\u001b[0m\u001b[0mfeed_dict\u001b[0m\u001b[0;34m=\u001b[0m\u001b[0;34m{\u001b[0m\u001b[0mz_in\u001b[0m\u001b[0;34m:\u001b[0m \u001b[0mz_input\u001b[0m\u001b[0;34m}\u001b[0m\u001b[0;34m)\u001b[0m\u001b[0;34m\u001b[0m\u001b[0m\n\u001b[0m\u001b[1;32m     16\u001b[0m \u001b[0;34m\u001b[0m\u001b[0m\n\u001b[1;32m     17\u001b[0m \u001b[0;31m#         print(\"i: {} / d_loss: {} / g_loss: {}\".format(i,np.sum(d_loss)/batch_size, np.sum(g_loss)/batch_size))\u001b[0m\u001b[0;34m\u001b[0m\u001b[0;34m\u001b[0m\u001b[0m\n",
      "\u001b[0;32m/home/phuongnam/.local/lib/python3.6/site-packages/tensorflow/python/client/session.py\u001b[0m in \u001b[0;36mrun\u001b[0;34m(self, fetches, feed_dict, options, run_metadata)\u001b[0m\n\u001b[1;32m    898\u001b[0m     \u001b[0;32mtry\u001b[0m\u001b[0;34m:\u001b[0m\u001b[0;34m\u001b[0m\u001b[0m\n\u001b[1;32m    899\u001b[0m       result = self._run(None, fetches, feed_dict, options_ptr,\n\u001b[0;32m--> 900\u001b[0;31m                          run_metadata_ptr)\n\u001b[0m\u001b[1;32m    901\u001b[0m       \u001b[0;32mif\u001b[0m \u001b[0mrun_metadata\u001b[0m\u001b[0;34m:\u001b[0m\u001b[0;34m\u001b[0m\u001b[0m\n\u001b[1;32m    902\u001b[0m         \u001b[0mproto_data\u001b[0m \u001b[0;34m=\u001b[0m \u001b[0mtf_session\u001b[0m\u001b[0;34m.\u001b[0m\u001b[0mTF_GetBuffer\u001b[0m\u001b[0;34m(\u001b[0m\u001b[0mrun_metadata_ptr\u001b[0m\u001b[0;34m)\u001b[0m\u001b[0;34m\u001b[0m\u001b[0m\n",
      "\u001b[0;32m/home/phuongnam/.local/lib/python3.6/site-packages/tensorflow/python/client/session.py\u001b[0m in \u001b[0;36m_run\u001b[0;34m(self, handle, fetches, feed_dict, options, run_metadata)\u001b[0m\n\u001b[1;32m   1133\u001b[0m     \u001b[0;32mif\u001b[0m \u001b[0mfinal_fetches\u001b[0m \u001b[0;32mor\u001b[0m \u001b[0mfinal_targets\u001b[0m \u001b[0;32mor\u001b[0m \u001b[0;34m(\u001b[0m\u001b[0mhandle\u001b[0m \u001b[0;32mand\u001b[0m \u001b[0mfeed_dict_tensor\u001b[0m\u001b[0;34m)\u001b[0m\u001b[0;34m:\u001b[0m\u001b[0;34m\u001b[0m\u001b[0m\n\u001b[1;32m   1134\u001b[0m       results = self._do_run(handle, final_targets, final_fetches,\n\u001b[0;32m-> 1135\u001b[0;31m                              feed_dict_tensor, options, run_metadata)\n\u001b[0m\u001b[1;32m   1136\u001b[0m     \u001b[0;32melse\u001b[0m\u001b[0;34m:\u001b[0m\u001b[0;34m\u001b[0m\u001b[0m\n\u001b[1;32m   1137\u001b[0m       \u001b[0mresults\u001b[0m \u001b[0;34m=\u001b[0m \u001b[0;34m[\u001b[0m\u001b[0;34m]\u001b[0m\u001b[0;34m\u001b[0m\u001b[0m\n",
      "\u001b[0;32m/home/phuongnam/.local/lib/python3.6/site-packages/tensorflow/python/client/session.py\u001b[0m in \u001b[0;36m_do_run\u001b[0;34m(self, handle, target_list, fetch_list, feed_dict, options, run_metadata)\u001b[0m\n\u001b[1;32m   1314\u001b[0m     \u001b[0;32mif\u001b[0m \u001b[0mhandle\u001b[0m \u001b[0;32mis\u001b[0m \u001b[0;32mNone\u001b[0m\u001b[0;34m:\u001b[0m\u001b[0;34m\u001b[0m\u001b[0m\n\u001b[1;32m   1315\u001b[0m       return self._do_call(_run_fn, feeds, fetches, targets, options,\n\u001b[0;32m-> 1316\u001b[0;31m                            run_metadata)\n\u001b[0m\u001b[1;32m   1317\u001b[0m     \u001b[0;32melse\u001b[0m\u001b[0;34m:\u001b[0m\u001b[0;34m\u001b[0m\u001b[0m\n\u001b[1;32m   1318\u001b[0m       \u001b[0;32mreturn\u001b[0m \u001b[0mself\u001b[0m\u001b[0;34m.\u001b[0m\u001b[0m_do_call\u001b[0m\u001b[0;34m(\u001b[0m\u001b[0m_prun_fn\u001b[0m\u001b[0;34m,\u001b[0m \u001b[0mhandle\u001b[0m\u001b[0;34m,\u001b[0m \u001b[0mfeeds\u001b[0m\u001b[0;34m,\u001b[0m \u001b[0mfetches\u001b[0m\u001b[0;34m)\u001b[0m\u001b[0;34m\u001b[0m\u001b[0m\n",
      "\u001b[0;32m/home/phuongnam/.local/lib/python3.6/site-packages/tensorflow/python/client/session.py\u001b[0m in \u001b[0;36m_do_call\u001b[0;34m(self, fn, *args)\u001b[0m\n\u001b[1;32m   1320\u001b[0m   \u001b[0;32mdef\u001b[0m \u001b[0m_do_call\u001b[0m\u001b[0;34m(\u001b[0m\u001b[0mself\u001b[0m\u001b[0;34m,\u001b[0m \u001b[0mfn\u001b[0m\u001b[0;34m,\u001b[0m \u001b[0;34m*\u001b[0m\u001b[0margs\u001b[0m\u001b[0;34m)\u001b[0m\u001b[0;34m:\u001b[0m\u001b[0;34m\u001b[0m\u001b[0m\n\u001b[1;32m   1321\u001b[0m     \u001b[0;32mtry\u001b[0m\u001b[0;34m:\u001b[0m\u001b[0;34m\u001b[0m\u001b[0m\n\u001b[0;32m-> 1322\u001b[0;31m       \u001b[0;32mreturn\u001b[0m \u001b[0mfn\u001b[0m\u001b[0;34m(\u001b[0m\u001b[0;34m*\u001b[0m\u001b[0margs\u001b[0m\u001b[0;34m)\u001b[0m\u001b[0;34m\u001b[0m\u001b[0m\n\u001b[0m\u001b[1;32m   1323\u001b[0m     \u001b[0;32mexcept\u001b[0m \u001b[0merrors\u001b[0m\u001b[0;34m.\u001b[0m\u001b[0mOpError\u001b[0m \u001b[0;32mas\u001b[0m \u001b[0me\u001b[0m\u001b[0;34m:\u001b[0m\u001b[0;34m\u001b[0m\u001b[0m\n\u001b[1;32m   1324\u001b[0m       \u001b[0mmessage\u001b[0m \u001b[0;34m=\u001b[0m \u001b[0mcompat\u001b[0m\u001b[0;34m.\u001b[0m\u001b[0mas_text\u001b[0m\u001b[0;34m(\u001b[0m\u001b[0me\u001b[0m\u001b[0;34m.\u001b[0m\u001b[0mmessage\u001b[0m\u001b[0;34m)\u001b[0m\u001b[0;34m\u001b[0m\u001b[0m\n",
      "\u001b[0;32m/home/phuongnam/.local/lib/python3.6/site-packages/tensorflow/python/client/session.py\u001b[0m in \u001b[0;36m_run_fn\u001b[0;34m(feed_dict, fetch_list, target_list, options, run_metadata)\u001b[0m\n\u001b[1;32m   1305\u001b[0m       \u001b[0mself\u001b[0m\u001b[0;34m.\u001b[0m\u001b[0m_extend_graph\u001b[0m\u001b[0;34m(\u001b[0m\u001b[0;34m)\u001b[0m\u001b[0;34m\u001b[0m\u001b[0m\n\u001b[1;32m   1306\u001b[0m       return self._call_tf_sessionrun(\n\u001b[0;32m-> 1307\u001b[0;31m           options, feed_dict, fetch_list, target_list, run_metadata)\n\u001b[0m\u001b[1;32m   1308\u001b[0m \u001b[0;34m\u001b[0m\u001b[0m\n\u001b[1;32m   1309\u001b[0m     \u001b[0;32mdef\u001b[0m \u001b[0m_prun_fn\u001b[0m\u001b[0;34m(\u001b[0m\u001b[0mhandle\u001b[0m\u001b[0;34m,\u001b[0m \u001b[0mfeed_dict\u001b[0m\u001b[0;34m,\u001b[0m \u001b[0mfetch_list\u001b[0m\u001b[0;34m)\u001b[0m\u001b[0;34m:\u001b[0m\u001b[0;34m\u001b[0m\u001b[0m\n",
      "\u001b[0;32m/home/phuongnam/.local/lib/python3.6/site-packages/tensorflow/python/client/session.py\u001b[0m in \u001b[0;36m_call_tf_sessionrun\u001b[0;34m(self, options, feed_dict, fetch_list, target_list, run_metadata)\u001b[0m\n\u001b[1;32m   1407\u001b[0m       return tf_session.TF_SessionRun_wrapper(\n\u001b[1;32m   1408\u001b[0m           \u001b[0mself\u001b[0m\u001b[0;34m.\u001b[0m\u001b[0m_session\u001b[0m\u001b[0;34m,\u001b[0m \u001b[0moptions\u001b[0m\u001b[0;34m,\u001b[0m \u001b[0mfeed_dict\u001b[0m\u001b[0;34m,\u001b[0m \u001b[0mfetch_list\u001b[0m\u001b[0;34m,\u001b[0m \u001b[0mtarget_list\u001b[0m\u001b[0;34m,\u001b[0m\u001b[0;34m\u001b[0m\u001b[0m\n\u001b[0;32m-> 1409\u001b[0;31m           run_metadata)\n\u001b[0m\u001b[1;32m   1410\u001b[0m     \u001b[0;32melse\u001b[0m\u001b[0;34m:\u001b[0m\u001b[0;34m\u001b[0m\u001b[0m\n\u001b[1;32m   1411\u001b[0m       \u001b[0;32mwith\u001b[0m \u001b[0merrors\u001b[0m\u001b[0;34m.\u001b[0m\u001b[0mraise_exception_on_not_ok_status\u001b[0m\u001b[0;34m(\u001b[0m\u001b[0;34m)\u001b[0m \u001b[0;32mas\u001b[0m \u001b[0mstatus\u001b[0m\u001b[0;34m:\u001b[0m\u001b[0;34m\u001b[0m\u001b[0m\n",
      "\u001b[0;31mKeyboardInterrupt\u001b[0m: "
     ]
    },
    {
     "data": {
      "image/png": "[encoded data removed]",
      "text/plain": [
       "<Figure size 720x720 with 1 Axes>"
      ]
     },
     "metadata": {},
     "output_type": "display_data"
    }
   ],
   "source": [
    "\n",
    "init = tf.global_variables_initializer()\n",
    "plt.figure(figsize=(10, 10))\n",
    "\n",
    "with tf.Session() as sess:\n",
    "    sess.run(init)\n",
    "\n",
    "    for i in range(epoch):\n",
    "        batch = mnist.train.next_batch(batch_size)\n",
    "        z_input = np.random.uniform(0,1.0,size=[batch_size,100]).astype(np.float32)\n",
    "\n",
    "        _, d_loss = sess.run([update_D,disc_loss],feed_dict={x: batch[0], z_in: z_input})\n",
    "        \n",
    "        for j in range(4):\n",
    "            _, g_loss = sess.run([update_G,gen_loss],feed_dict={z_in: z_input})\n",
    "\n",
    "#         print(\"i: {} / d_loss: {} / g_loss: {}\".format(i,np.sum(d_loss)/batch_size, np.sum(g_loss)/batch_size))\n",
    "\n",
    "        if i % 100 == 0:\n",
    "            print(\"i: {} / d_loss: {} / g_loss: {}\".format(i,np.sum(d_loss)/batch_size, np.sum(g_loss)/batch_size))\n",
    "\n",
    "            gen_o = sess.run(g_out,feed_dict={z_in: z_input})\n",
    "            result = plt.imshow(gen_o[0][:, :, 0], cmap=\"gray\")\n",
    "#             plt.show()\n",
    "            plt.savefig(\"./image/{}.png\".format(i))"
   ]
  },
  {
   "cell_type": "code",
   "execution_count": null,
   "metadata": {},
   "outputs": [],
   "source": []
  },
  {
   "cell_type": "code",
   "execution_count": null,
   "metadata": {},
   "outputs": [],
   "source": []
  },
  {
   "cell_type": "code",
   "execution_count": null,
   "metadata": {},
   "outputs": [],
   "source": []
  },
  {
   "cell_type": "code",
   "execution_count": null,
   "metadata": {},
   "outputs": [],
   "source": []
  }
 ],
 "metadata": {
  "kernelspec": {
   "display_name": "Python 3",
   "language": "python",
   "name": "python3"
  },
  "language_info": {
   "codemirror_mode": {
    "name": "ipython",
    "version": 3
   },
   "file_extension": ".py",
   "mimetype": "text/x-python",
   "name": "python",
   "nbconvert_exporter": "python",
   "pygments_lexer": "ipython3",
   "version": "3.6.6"
  }
 },
 "nbformat": 4,
 "nbformat_minor": 2
}
